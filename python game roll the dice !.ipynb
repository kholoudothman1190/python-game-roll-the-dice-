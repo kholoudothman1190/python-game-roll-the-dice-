{
 "cells": [
  {
   "cell_type": "code",
   "execution_count": 4,
   "metadata": {
    "colab": {
     "base_uri": "https://localhost:8080/"
    },
    "id": "bKBIXoKH87G8",
    "outputId": "ba024e70-74e1-4a1a-b8d1-b964b6ae0957"
   },
   "outputs": [
    {
     "name": "stdout",
     "output_type": "stream",
     "text": [
      "Welcome to the Rolling Dice Game!\n",
      "Please enter how many times you want to roll the dice: 4\n",
      "The number is 3\n",
      "The number is 1\n",
      "You rolled a 6! Rolling again.\n",
      "The number is 1\n",
      "The number is 1\n",
      "Game over!\n"
     ]
    }
   ],
   "source": [
    "import random\n",
    "print('Welcome to the Rolling Dice Game!')\n",
    "try:\n",
    "    trials = int(input(\"Please enter how many times you want to roll the dice: \"))\n",
    "except:\n",
    "    print(\"Invalid input! Please enter a number.\")\n",
    "\n",
    "while trials > 0:\n",
    "      roll_dice = random.randint(1,6)\n",
    "      if roll_dice < 6 :\n",
    "        trials -= 1\n",
    "        print(f\"The number is {roll_dice}\")\n",
    "\n",
    "      if roll_dice == 6:\n",
    "         print(\"You rolled a 6! Rolling again.\")\n",
    "         trials == trials\n",
    "\n",
    "print(\"Game over!\")"
   ]
  }
 ],
 "metadata": {
  "colab": {
   "provenance": []
  },
  "kernelspec": {
   "display_name": "Python 3",
   "language": "python",
   "name": "python3"
  },
  "language_info": {
   "codemirror_mode": {
    "name": "ipython",
    "version": 3
   },
   "file_extension": ".py",
   "mimetype": "text/x-python",
   "name": "python",
   "nbconvert_exporter": "python",
   "pygments_lexer": "ipython3",
   "version": "3.7.6"
  }
 },
 "nbformat": 4,
 "nbformat_minor": 1
}
